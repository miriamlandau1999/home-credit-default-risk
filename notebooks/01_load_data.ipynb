{
 "cells": [
  {
   "cell_type": "markdown",
   "id": "e5c6485b",
   "metadata": {},
   "source": [
    "# Load Data\n",
    "- load application data\n",
    "- analyze size, unique identifier, target variable, data types"
   ]
  },
  {
   "cell_type": "code",
   "execution_count": null,
   "id": "f1bce6aa",
   "metadata": {},
   "outputs": [],
   "source": [
    "# Import necessary libraries\n",
    "from utils import pd, np"
   ]
  },
  {
   "cell_type": "code",
   "execution_count": 5,
   "id": "3530281c",
   "metadata": {},
   "outputs": [],
   "source": [
    "# Import application data\n",
    "train_applications, test_applications = pd.read_csv('../data/application_train.csv'), pd.read_csv('../data/application_test.csv')"
   ]
  },
  {
   "cell_type": "code",
   "execution_count": 7,
   "id": "db74a7f1",
   "metadata": {},
   "outputs": [
    {
     "name": "stdout",
     "output_type": "stream",
     "text": [
      "(307511, 122) (48744, 121)\n"
     ]
    }
   ],
   "source": [
    "# Analyze data size\n",
    "print(train_applications.shape, test_applications.shape)"
   ]
  },
  {
   "cell_type": "code",
   "execution_count": 10,
   "id": "b015d7f0",
   "metadata": {},
   "outputs": [
    {
     "data": {
      "text/plain": [
       "<Axes: title={'center': 'Target Distribution in Training Data'}, xlabel='TARGET'>"
      ]
     },
     "execution_count": 10,
     "metadata": {},
     "output_type": "execute_result"
    },
    {
     "data": {
      "image/png": "[encoded data removed]",
      "text/plain": [
       "<Figure size 640x480 with 1 Axes>"
      ]
     },
     "metadata": {},
     "output_type": "display_data"
    }
   ],
   "source": [
    "# Analyze Target variable distribution\n",
    "train_applications['TARGET'].value_counts().plot(kind='bar', title='Target Distribution in Training Data')"
   ]
  },
  {
   "cell_type": "code",
   "execution_count": 22,
   "id": "36534fe5",
   "metadata": {},
   "outputs": [
    {
     "name": "stdout",
     "output_type": "stream",
     "text": [
      "<class 'pandas.core.frame.DataFrame'>\n",
      "RangeIndex: 307511 entries, 0 to 307510\n",
      "Data columns (total 122 columns):\n",
      " #    Column                        Non-Null Count   Dtype  \n",
      "---   ------                        --------------   -----  \n",
      " 0    SK_ID_CURR                    307511 non-null  int64  \n",
      " 1    TARGET                        307511 non-null  int64  \n",
      " 2    NAME_CONTRACT_TYPE            307511 non-null  object \n",
      " 3    CODE_GENDER                   307511 non-null  object \n",
      " 4    FLAG_OWN_CAR                  307511 non-null  object \n",
      " 5    FLAG_OWN_REALTY               307511 non-null  object \n",
      " 6    CNT_CHILDREN                  307511 non-null  int64  \n",
      " 7    AMT_INCOME_TOTAL              307511 non-null  float64\n",
      " 8    AMT_CREDIT                    307511 non-null  float64\n",
      " 9    AMT_ANNUITY                   307499 non-null  float64\n",
      " 10   AMT_GOODS_PRICE               307233 non-null  float64\n",
      " 11   NAME_TYPE_SUITE               306219 non-null  object \n",
      " 12   NAME_INCOME_TYPE              307511 non-null  object \n",
      " 13   NAME_EDUCATION_TYPE           307511 non-null  object \n",
      " 14   NAME_FAMILY_STATUS            307511 non-null  object \n",
      " 15   NAME_HOUSING_TYPE             307511 non-null  object \n",
      " 16   REGION_POPULATION_RELATIVE    307511 non-null  float64\n",
      " 17   DAYS_BIRTH                    307511 non-null  int64  \n",
      " 18   DAYS_EMPLOYED                 307511 non-null  int64  \n",
      " 19   DAYS_REGISTRATION             307511 non-null  float64\n",
      " 20   DAYS_ID_PUBLISH               307511 non-null  int64  \n",
      " 21   OWN_CAR_AGE                   104582 non-null  float64\n",
      " 22   FLAG_MOBIL                    307511 non-null  int64  \n",
      " 23   FLAG_EMP_PHONE                307511 non-null  int64  \n",
      " 24   FLAG_WORK_PHONE               307511 non-null  int64  \n",
      " 25   FLAG_CONT_MOBILE              307511 non-null  int64  \n",
      " 26   FLAG_PHONE                    307511 non-null  int64  \n",
      " 27   FLAG_EMAIL                    307511 non-null  int64  \n",
      " 28   OCCUPATION_TYPE               211120 non-null  object \n",
      " 29   CNT_FAM_MEMBERS               307509 non-null  float64\n",
      " 30   REGION_RATING_CLIENT          307511 non-null  int64  \n",
      " 31   REGION_RATING_CLIENT_W_CITY   307511 non-null  int64  \n",
      " 32   WEEKDAY_APPR_PROCESS_START    307511 non-null  object \n",
      " 33   HOUR_APPR_PROCESS_START       307511 non-null  int64  \n",
      " 34   REG_REGION_NOT_LIVE_REGION    307511 non-null  int64  \n",
      " 35   REG_REGION_NOT_WORK_REGION    307511 non-null  int64  \n",
      " 36   LIVE_REGION_NOT_WORK_REGION   307511 non-null  int64  \n",
      " 37   REG_CITY_NOT_LIVE_CITY        307511 non-null  int64  \n",
      " 38   REG_CITY_NOT_WORK_CITY        307511 non-null  int64  \n",
      " 39   LIVE_CITY_NOT_WORK_CITY       307511 non-null  int64  \n",
      " 40   ORGANIZATION_TYPE             307511 non-null  object \n",
      " 41   EXT_SOURCE_1                  134133 non-null  float64\n",
      " 42   EXT_SOURCE_2                  306851 non-null  float64\n",
      " 43   EXT_SOURCE_3                  246546 non-null  float64\n",
      " 44   APARTMENTS_AVG                151450 non-null  float64\n",
      " 45   BASEMENTAREA_AVG              127568 non-null  float64\n",
      " 46   YEARS_BEGINEXPLUATATION_AVG   157504 non-null  float64\n",
      " 47   YEARS_BUILD_AVG               103023 non-null  float64\n",
      " 48   COMMONAREA_AVG                92646 non-null   float64\n",
      " 49   ELEVATORS_AVG                 143620 non-null  float64\n",
      " 50   ENTRANCES_AVG                 152683 non-null  float64\n",
      " 51   FLOORSMAX_AVG                 154491 non-null  float64\n",
      " 52   FLOORSMIN_AVG                 98869 non-null   float64\n",
      " 53   LANDAREA_AVG                  124921 non-null  float64\n",
      " 54   LIVINGAPARTMENTS_AVG          97312 non-null   float64\n",
      " 55   LIVINGAREA_AVG                153161 non-null  float64\n",
      " 56   NONLIVINGAPARTMENTS_AVG       93997 non-null   float64\n",
      " 57   NONLIVINGAREA_AVG             137829 non-null  float64\n",
      " 58   APARTMENTS_MODE               151450 non-null  float64\n",
      " 59   BASEMENTAREA_MODE             127568 non-null  float64\n",
      " 60   YEARS_BEGINEXPLUATATION_MODE  157504 non-null  float64\n",
      " 61   YEARS_BUILD_MODE              103023 non-null  float64\n",
      " 62   COMMONAREA_MODE               92646 non-null   float64\n",
      " 63   ELEVATORS_MODE                143620 non-null  float64\n",
      " 64   ENTRANCES_MODE                152683 non-null  float64\n",
      " 65   FLOORSMAX_MODE                154491 non-null  float64\n",
      " 66   FLOORSMIN_MODE                98869 non-null   float64\n",
      " 67   LANDAREA_MODE                 124921 non-null  float64\n",
      " 68   LIVINGAPARTMENTS_MODE         97312 non-null   float64\n",
      " 69   LIVINGAREA_MODE               153161 non-null  float64\n",
      " 70   NONLIVINGAPARTMENTS_MODE      93997 non-null   float64\n",
      " 71   NONLIVINGAREA_MODE            137829 non-null  float64\n",
      " 72   APARTMENTS_MEDI               151450 non-null  float64\n",
      " 73   BASEMENTAREA_MEDI             127568 non-null  float64\n",
      " 74   YEARS_BEGINEXPLUATATION_MEDI  157504 non-null  float64\n",
      " 75   YEARS_BUILD_MEDI              103023 non-null  float64\n",
      " 76   COMMONAREA_MEDI               92646 non-null   float64\n",
      " 77   ELEVATORS_MEDI                143620 non-null  float64\n",
      " 78   ENTRANCES_MEDI                152683 non-null  float64\n",
      " 79   FLOORSMAX_MEDI                154491 non-null  float64\n",
      " 80   FLOORSMIN_MEDI                98869 non-null   float64\n",
      " 81   LANDAREA_MEDI                 124921 non-null  float64\n",
      " 82   LIVINGAPARTMENTS_MEDI         97312 non-null   float64\n",
      " 83   LIVINGAREA_MEDI               153161 non-null  float64\n",
      " 84   NONLIVINGAPARTMENTS_MEDI      93997 non-null   float64\n",
      " 85   NONLIVINGAREA_MEDI            137829 non-null  float64\n",
      " 86   FONDKAPREMONT_MODE            97216 non-null   object \n",
      " 87   HOUSETYPE_MODE                153214 non-null  object \n",
      " 88   TOTALAREA_MODE                159080 non-null  float64\n",
      " 89   WALLSMATERIAL_MODE            151170 non-null  object \n",
      " 90   EMERGENCYSTATE_MODE           161756 non-null  object \n",
      " 91   OBS_30_CNT_SOCIAL_CIRCLE      306490 non-null  float64\n",
      " 92   DEF_30_CNT_SOCIAL_CIRCLE      306490 non-null  float64\n",
      " 93   OBS_60_CNT_SOCIAL_CIRCLE      306490 non-null  float64\n",
      " 94   DEF_60_CNT_SOCIAL_CIRCLE      306490 non-null  float64\n",
      " 95   DAYS_LAST_PHONE_CHANGE        307510 non-null  float64\n",
      " 96   FLAG_DOCUMENT_2               307511 non-null  int64  \n",
      " 97   FLAG_DOCUMENT_3               307511 non-null  int64  \n",
      " 98   FLAG_DOCUMENT_4               307511 non-null  int64  \n",
      " 99   FLAG_DOCUMENT_5               307511 non-null  int64  \n",
      " 100  FLAG_DOCUMENT_6               307511 non-null  int64  \n",
      " 101  FLAG_DOCUMENT_7               307511 non-null  int64  \n",
      " 102  FLAG_DOCUMENT_8               307511 non-null  int64  \n",
      " 103  FLAG_DOCUMENT_9               307511 non-null  int64  \n",
      " 104  FLAG_DOCUMENT_10              307511 non-null  int64  \n",
      " 105  FLAG_DOCUMENT_11              307511 non-null  int64  \n",
      " 106  FLAG_DOCUMENT_12              307511 non-null  int64  \n",
      " 107  FLAG_DOCUMENT_13              307511 non-null  int64  \n",
      " 108  FLAG_DOCUMENT_14              307511 non-null  int64  \n",
      " 109  FLAG_DOCUMENT_15              307511 non-null  int64  \n",
      " 110  FLAG_DOCUMENT_16              307511 non-null  int64  \n",
      " 111  FLAG_DOCUMENT_17              307511 non-null  int64  \n",
      " 112  FLAG_DOCUMENT_18              307511 non-null  int64  \n",
      " 113  FLAG_DOCUMENT_19              307511 non-null  int64  \n",
      " 114  FLAG_DOCUMENT_20              307511 non-null  int64  \n",
      " 115  FLAG_DOCUMENT_21              307511 non-null  int64  \n",
      " 116  AMT_REQ_CREDIT_BUREAU_HOUR    265992 non-null  float64\n",
      " 117  AMT_REQ_CREDIT_BUREAU_DAY     265992 non-null  float64\n",
      " 118  AMT_REQ_CREDIT_BUREAU_WEEK    265992 non-null  float64\n",
      " 119  AMT_REQ_CREDIT_BUREAU_MON     265992 non-null  float64\n",
      " 120  AMT_REQ_CREDIT_BUREAU_QRT     265992 non-null  float64\n",
      " 121  AMT_REQ_CREDIT_BUREAU_YEAR    265992 non-null  float64\n",
      "dtypes: float64(65), int64(41), object(16)\n",
      "memory usage: 286.2+ MB\n"
     ]
    }
   ],
   "source": [
    "# Display full info for all features in train_applications\n",
    "train_applications.info(verbose=True, show_counts=True)"
   ]
  },
  {
   "cell_type": "code",
   "execution_count": null,
   "id": "8463a075",
   "metadata": {},
   "outputs": [
    {
     "name": "stdout",
     "output_type": "stream",
     "text": [
      "Unique IDs in train_applications: 307511\n"
     ]
    }
   ],
   "source": [
    "# Check Unique identifier\n",
    "print(\"Unique IDs in train_applications:\", train_applications['SK_ID_CURR'].nunique())"
   ]
  },
  {
   "cell_type": "code",
   "execution_count": 28,
   "id": "f48a672c",
   "metadata": {},
   "outputs": [
    {
     "name": "stdout",
     "output_type": "stream",
     "text": [
      "Feature types in train_applications:\n",
      " float64    65\n",
      "int64      41\n",
      "object     16\n",
      "Name: count, dtype: int64\n"
     ]
    }
   ],
   "source": [
    "# Observe feature types counts\n",
    "print(\"Feature types in train_applications:\\n\", train_applications.dtypes.value_counts())"
   ]
  },
  {
   "cell_type": "code",
   "execution_count": 26,
   "id": "1d798366",
   "metadata": {},
   "outputs": [
    {
     "name": "stdout",
     "output_type": "stream",
     "text": [
      "Null counts in train_applications:\n",
      " COMMONAREA_MEDI             214865\n",
      "COMMONAREA_AVG              214865\n",
      "COMMONAREA_MODE             214865\n",
      "NONLIVINGAPARTMENTS_MODE    213514\n",
      "NONLIVINGAPARTMENTS_AVG     213514\n",
      "NONLIVINGAPARTMENTS_MEDI    213514\n",
      "FONDKAPREMONT_MODE          210295\n",
      "LIVINGAPARTMENTS_MODE       210199\n",
      "LIVINGAPARTMENTS_AVG        210199\n",
      "LIVINGAPARTMENTS_MEDI       210199\n",
      "FLOORSMIN_AVG               208642\n",
      "FLOORSMIN_MODE              208642\n",
      "FLOORSMIN_MEDI              208642\n",
      "YEARS_BUILD_MEDI            204488\n",
      "YEARS_BUILD_MODE            204488\n",
      "YEARS_BUILD_AVG             204488\n",
      "OWN_CAR_AGE                 202929\n",
      "LANDAREA_MEDI               182590\n",
      "LANDAREA_MODE               182590\n",
      "LANDAREA_AVG                182590\n",
      "dtype: int64\n"
     ]
    }
   ],
   "source": [
    "# Check null counts in train_applications\n",
    "print(\"Null counts in train_applications:\\n\", train_applications.isnull().sum().sort_values(ascending=False).head(20))"
   ]
  },
  {
   "cell_type": "markdown",
   "id": "6db7b701",
   "metadata": {},
   "source": [
    "# Key Takeaways\n",
    "- Application dataset size\n",
    "    - Number of applications in training data: 307511\n",
    "    - Number of applications in test data: 48744\n",
    "- Features\n",
    "    - 121\n",
    "    - Datatypes: 65 float64, 41 int, 16 obj\n",
    "- Unique Identifier: 'SK_ID_CURR'\n",
    "- Target Variable: \n",
    "    - Label: 'Target' \n",
    "    - Value: 1 and 0 \n",
    "- Null Counts\n",
    "    - Some features have ~ 100 - 200K null"
   ]
  }
 ],
 "metadata": {
  "kernelspec": {
   "display_name": "venv",
   "language": "python",
   "name": "python3"
  },
  "language_info": {
   "codemirror_mode": {
    "name": "ipython",
    "version": 3
   },
   "file_extension": ".py",
   "mimetype": "text/x-python",
   "name": "python",
   "nbconvert_exporter": "python",
   "pygments_lexer": "ipython3",
   "version": "3.9.6"
  }
 },
 "nbformat": 4,
 "nbformat_minor": 5
}
